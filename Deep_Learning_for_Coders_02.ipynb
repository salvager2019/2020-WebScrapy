{
  "nbformat": 4,
  "nbformat_minor": 0,
  "metadata": {
    "colab": {
      "name": "Deep Learning for Coders 02.ipynb",
      "provenance": [],
      "collapsed_sections": [],
      "authorship_tag": "ABX9TyOT8HjmaZU/7BE4sRxWFIpW",
      "include_colab_link": true
    },
    "kernelspec": {
      "name": "python3",
      "display_name": "Python 3"
    },
    "accelerator": "GPU"
  },
  "cells": [
    {
      "cell_type": "markdown",
      "metadata": {
        "id": "view-in-github",
        "colab_type": "text"
      },
      "source": [
        "<a href=\"https://colab.research.google.com/github/salvager2019/2020-WebScrapy/blob/master/Deep_Learning_for_Coders_02.ipynb\" target=\"_parent\"><img src=\"https://colab.research.google.com/assets/colab-badge.svg\" alt=\"Open In Colab\"/></a>"
      ]
    },
    {
      "cell_type": "code",
      "metadata": {
        "id": "jQhEvHYKe7Ni"
      },
      "source": [
        "!pip install -Uqq fastbook\n",
        "import fastbook\n",
        "fastbook.setup_book()"
      ],
      "execution_count": null,
      "outputs": []
    },
    {
      "cell_type": "markdown",
      "metadata": {
        "id": "IrrekMKCfEYJ"
      },
      "source": [
        "4/1AfDhmrjhUOm-qopHiKn4iaOf2kV3X718Vov0VHZZrGE8KF419OVBhEPN0Zo"
      ]
    },
    {
      "cell_type": "code",
      "metadata": {
        "id": "0OZKmvYEfCJT"
      },
      "source": [
        "from fastbook import *\n",
        "from fastai.vision.all import *\n",
        "from fastai.text.all import * \n",
        "from fastai.tabular.all import *\n",
        "from fastai.collab import *\n",
        "import matplotlib.pyplot as plt\n",
        "from PIL import Image"
      ],
      "execution_count": null,
      "outputs": []
    }
  ]
}